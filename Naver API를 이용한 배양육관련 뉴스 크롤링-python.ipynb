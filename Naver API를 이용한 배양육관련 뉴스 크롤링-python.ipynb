{
 "cells": [
  {
   "cell_type": "markdown",
   "metadata": {},
   "source": [
    "# Naver API를 사용하여 Naver news crawling"
   ]
  },
  {
   "cell_type": "markdown",
   "metadata": {},
   "source": [
    "# 1. 뉴스링크가져오기 (keyword = 배양육)"
   ]
  },
  {
   "cell_type": "code",
   "execution_count": 1,
   "metadata": {},
   "outputs": [],
   "source": [
    "#뉴스링크가져오기\n",
    "import requests\n",
    "import time\n",
    "from datetime import datetime\n",
    "import pickle\n",
    "\n",
    "def get_naver_news_search(keyword, start = 1, display = 100):\n",
    "    \n",
    "    base_url = \"https://openapi.naver.com/v1/search/news?query={}&start={}&display={}\"\n",
    "    \n",
    "    headers = {\"X-Naver-Client-Id\" : \"your id\",\n",
    "                              \"X-Naver-Client-Secret\" : \"password\"}\n",
    "    \n",
    "    news_links = []\n",
    "    \n",
    "    while start <= 1000:\n",
    "        url = base_url.format(keyword, start, display)\n",
    "        \n",
    "        res = requests.get(url, headers = headers)\n",
    "        if res.status_code == 200:\n",
    "            result = res.json()\n",
    "            items = result['items']\n",
    "            #네이버 링크들 추출\n",
    "            for item in items:\n",
    "                link = item['link']\n",
    "                if 'news.naver.com' in link:\n",
    "                    news_links.append(link)\n",
    "            start = start + display\n",
    "            time.sleep(1)\n",
    "            #네이버 open api 요청은 초당 10회까지 호출가능하기 때문에 시간차를 둠\n",
    "        else:\n",
    "            raise Exception('검색실패 : {}'.format(res.status_code))\n",
    "        \n",
    "    \n",
    "    curr = datetime.now().strftime('%Y-%m-%d')\n",
    "    filename = \"네이버뉴스검색_{}_{}.pkl\".format(keyword, curr)\n",
    "    with open (filename, \"wb\") as f:\n",
    "        pickle.dump(news_links, f)\n"
   ]
  },
  {
   "cell_type": "code",
   "execution_count": 2,
   "metadata": {},
   "outputs": [],
   "source": [
    "#위의 뉴스링크 가져오는 함수 실행\n",
    "get_naver_news_search (\"배양육\")"
   ]
  },
  {
   "cell_type": "markdown",
   "metadata": {},
   "source": [
    "# 2. 뉴스링크로부터 기사내용 가져오기"
   ]
  },
  {
   "cell_type": "code",
   "execution_count": 3,
   "metadata": {},
   "outputs": [],
   "source": [
    "#1개의 네이버 뉴스링크로부터 1개의 기사내용 가져오는 함수\n",
    "from bs4 import BeautifulSoup\n",
    "import requests\n",
    "\n",
    "def get_naver_news(url):\n",
    "    \n",
    "    headers = { \"User-Agent\": \"Mozilla/5.0 (Windows NT 10.0; Win64; x64) AppleWebKit/537.36 (KHTML, like Gecko) Chrome/87.0.4280.88 Safari/537.36\" }\n",
    "    \n",
    "    #요청\n",
    "    res = requests.get(url, headers=headers)\n",
    "    if res.status_code == 200:\n",
    "        #응답을 받은 url - res.url\n",
    "        if 'news.naver.com' not in res.url:\n",
    "            raise Exception('{}은 요청할 수 없는 url입니다.'.format(res.url))\n",
    "        \n",
    "        soup = BeautifulSoup(res.text)\n",
    "        title = soup.select_one('h3#articleTitle').text.strip()\n",
    "        input_date = soup.select_one('span.t11').text.strip()\n",
    "        article = soup.select_one('div#articleBodyContents').text.strip()\n",
    "\n",
    "        return title, input_date, article\n",
    "    \n",
    "    else:\n",
    "        raise Exception(\"요청실패 : {}\".format(res.status_code))"
   ]
  },
  {
   "cell_type": "code",
   "execution_count": 5,
   "metadata": {},
   "outputs": [
    {
     "name": "stdout",
     "output_type": "stream",
     "text": [
      "error_cnt : 1\n",
      "종료\n"
     ]
    }
   ],
   "source": [
    "#위의 함수를 이용하여 기사내용 크롤링\n",
    "\n",
    "import pickle\n",
    "import pandas as pd\n",
    "\n",
    "curr = datetime.now().strftime('%Y-%m-%d')\n",
    "\n",
    "with open(\"네이버뉴스검색_{}_{}.pkl\".format(\"배양육\", curr), 'rb') as f:\n",
    "    l = pickle.load(f)\n",
    "\n",
    "result = []\n",
    "error_cnt = 0\n",
    "for url in l:\n",
    "    try:\n",
    "        info = get_naver_news(url)\n",
    "        result.append(info)\n",
    "    except:\n",
    "        error_cnt += 1\n",
    "        \n",
    "#파일로 저장\n",
    "print('error_cnt : {}'.format(error_cnt))\n",
    "df = pd.DataFrame(result, columns = [\"title\", \"date\", \"article\"])\n",
    "df.to_csv(\"cultured_meat.csv\", index = False)\n",
    "print('종료')"
   ]
  },
  {
   "cell_type": "code",
   "execution_count": null,
   "metadata": {},
   "outputs": [],
   "source": []
  }
 ],
 "metadata": {
  "kernelspec": {
   "display_name": "Python 3",
   "language": "python",
   "name": "python3"
  },
  "language_info": {
   "codemirror_mode": {
    "name": "ipython",
    "version": 3
   },
   "file_extension": ".py",
   "mimetype": "text/x-python",
   "name": "python",
   "nbconvert_exporter": "python",
   "pygments_lexer": "ipython3",
   "version": "3.7.6"
  }
 },
 "nbformat": 4,
 "nbformat_minor": 4
}
